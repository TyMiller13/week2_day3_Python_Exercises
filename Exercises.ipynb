{
 "cells": [
  {
   "cell_type": "markdown",
   "metadata": {},
   "source": [
    "### Exercise 1"
   ]
  },
  {
   "cell_type": "markdown",
   "metadata": {},
   "source": [
    "Given an array of positive integers `nums`, return a list of all of the negative integers.<br>\n",
    "Ex. 1<br>\n",
    "nums = [1, 3, 5, 7, 8]<br>\n",
    "Expected Output: [-1, -3, -5, -7, -8]<br>\n",
    "\n",
    "Ex. 2<br>\n",
    "nums = [100, 534, 32, 15, 77, 222, 788, 345, 75645, 22]<br>\n",
    "Expected Output: [-100, -534, -32, -15, -77, -222, -788, -345, -75645, -22]<br>"
   ]
  },
  {
   "cell_type": "code",
   "execution_count": 4,
   "metadata": {},
   "outputs": [
    {
     "name": "stdout",
     "output_type": "stream",
     "text": [
      "[-1, -3, -5, -7, -8]\n",
      "[-100, -534, -32, -15, -77, -222, -788, -345, -75645, -22]\n"
     ]
    }
   ],
   "source": [
    "# I:a list of nums\n",
    "# O:returns new list consisting of the passed in list but negative\n",
    "\n",
    "#declare new lsit\n",
    "#iterate through nums list and for each element convert to negative number\n",
    "#add that new negative number to that new list that was created\n",
    "#return the new list\n",
    "\n",
    "def pos_to_neg(nums):\n",
    "    \n",
    "    neg_list = [num * -1 for num in nums]\n",
    "    return neg_list\n",
    "\n",
    "print(pos_to_neg([1, 3, 5, 7, 8]))\n",
    "print(pos_to_neg([100, 534, 32, 15, 77, 222, 788, 345, 75645, 22]))"
   ]
  },
  {
   "cell_type": "markdown",
   "metadata": {},
   "source": [
    "### Exercise 2"
   ]
  },
  {
   "cell_type": "markdown",
   "metadata": {},
   "source": [
    "Given a string, return a list of all of the digits in the string.<br>\n",
    "Ex. 1 <br>\n",
    "address = \"123 Real Street, Apt. 2, Springfield, OR 43498\"<br>\n",
    "Expected Output: ['1', '2', '3', '2', '4', '3', '4', '9', '8']<br>\n",
    "\n",
    "Ex. 2 <br>\n",
    "sentence = \"My phone number is (555) 555-4321\"<br>\n",
    "Expected Output: ['5', '5', '5', '5', '5', '5', '4', '3', '2', '1']<br>"
   ]
  },
  {
   "cell_type": "code",
   "execution_count": 62,
   "metadata": {},
   "outputs": [
    {
     "name": "stdout",
     "output_type": "stream",
     "text": [
      "['1', '2', '3', '2', '4', '3', '4', '9', '8']\n",
      "['5', '5', '5', '5', '5', '5', '4', '3', '2', '1']\n"
     ]
    }
   ],
   "source": [
    "# Hint: Look at the string methods! -- help(str)\n",
    "\n",
    "#I:string\n",
    "#O:returns a list consisting of strings that are digits\n",
    "\n",
    "#declare new list\n",
    "#iterate through list\n",
    "#if char can be a int can use .isdigit to check if conversion is possible if so..\n",
    "#add to the new list in string form\n",
    "#return the new list\n",
    "\n",
    "def string_digits(string):\n",
    "    digit_list = [char for char in string if char.isdigit()]\n",
    "    return digit_list\n",
    "\n",
    "\n",
    "print(string_digits(\"123 Real Street, Apt. 2, Springfield, OR 43498\"))\n",
    "print(string_digits(\"My phone number is (555) 555-4321\"))"
   ]
  },
  {
   "cell_type": "markdown",
   "metadata": {},
   "source": [
    "### Exercise 3"
   ]
  },
  {
   "cell_type": "markdown",
   "metadata": {},
   "source": [
    "Given a string `digits`, return a **string** of the digits + 1<br>\n",
    "\n",
    "Ex. 1<br>\n",
    "digits = '123'<br>\n",
    "Expected Output: '124'<br>\n",
    "\n",
    "Ex. 2<br>\n",
    "digits = '99'<br>\n",
    "Expected Output: '100'<br>"
   ]
  },
  {
   "cell_type": "code",
   "execution_count": 59,
   "metadata": {},
   "outputs": [
    {
     "name": "stdout",
     "output_type": "stream",
     "text": [
      "124\n",
      "<class 'str'>\n",
      "100\n",
      "<class 'str'>\n"
     ]
    }
   ],
   "source": [
    "#I:string(digit)\n",
    "#O:returns the string(digit) as if it was a number added by 1\n",
    "\n",
    "#declare function with a string of digits\n",
    "#declare a variable equaled to the digits converted to a integer and add 1 to it.\n",
    "#return that variable converted to a string\n",
    "\n",
    "def add_one(digits):\n",
    "    num = int(digits)+1\n",
    "    return str(num)\n",
    "\n",
    "print(add_one(\"123\"))\n",
    "print(type(add_one(\"123\")))\n",
    "print(add_one(\"99\"))\n",
    "print(type(add_one(\"99\")))"
   ]
  }
 ],
 "metadata": {
  "kernelspec": {
   "display_name": "Python 3 (ipykernel)",
   "language": "python",
   "name": "python3"
  },
  "language_info": {
   "codemirror_mode": {
    "name": "ipython",
    "version": 3
   },
   "file_extension": ".py",
   "mimetype": "text/x-python",
   "name": "python",
   "nbconvert_exporter": "python",
   "pygments_lexer": "ipython3",
   "version": "3.9.13"
  }
 },
 "nbformat": 4,
 "nbformat_minor": 4
}
